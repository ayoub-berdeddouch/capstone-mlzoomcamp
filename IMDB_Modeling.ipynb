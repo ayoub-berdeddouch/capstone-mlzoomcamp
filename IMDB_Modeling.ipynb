{
 "cells": [
  {
   "cell_type": "markdown",
   "metadata": {},
   "source": [
    "# Importing Libraries"
   ]
  },
  {
   "cell_type": "code",
   "execution_count": 1,
   "metadata": {},
   "outputs": [
    {
     "name": "stdout",
     "output_type": "stream",
     "text": [
      "['aclImdb', 'aclImdb_v1.tar.gz', 'cleaned_data.csv', 'IMDb_Reviews.csv']\n"
     ]
    }
   ],
   "source": [
    "#Load the libraries\n",
    "import numpy as np\n",
    "import pandas as pd\n",
    "import seaborn as sns\n",
    "import matplotlib.pyplot as plt\n",
    "\n",
    "from sklearn.feature_extraction.text import CountVectorizer\n",
    "from sklearn.feature_extraction.text import TfidfVectorizer\n",
    "from sklearn.preprocessing import LabelBinarizer\n",
    "\n",
    "from sklearn.linear_model import LogisticRegression\n",
    "from sklearn.svm import LinearSVC\n",
    "\n",
    "from sklearn.naive_bayes import GaussianNB, MultinomialNB\n",
    "\n",
    "from xgboost.sklearn import XGBClassifier\n",
    "from sklearn.ensemble import RandomForestClassifier\n",
    "from sklearn.ensemble import GradientBoostingClassifier\n",
    "from sklearn.tree import DecisionTreeClassifier\n",
    "\n",
    "from sklearn.model_selection import train_test_split\n",
    "from sklearn.metrics import classification_report, accuracy_score, confusion_matrix, plot_confusion_matrix, plot_roc_curve, plot_precision_recall_curve, mean_squared_error\n",
    "\n",
    "\n",
    "\n",
    "import os\n",
    "print(os.listdir(\"./dataset/\"))\n",
    "import warnings\n",
    "warnings.filterwarnings('ignore')"
   ]
  },
  {
   "cell_type": "markdown",
   "metadata": {},
   "source": [
    "# Importing Cleaned Data"
   ]
  },
  {
   "cell_type": "code",
   "execution_count": 2,
   "metadata": {},
   "outputs": [
    {
     "name": "stdout",
     "output_type": "stream",
     "text": [
      "(49582, 2)\n"
     ]
    },
    {
     "data": {
      "text/html": [
       "<div>\n",
       "<style scoped>\n",
       "    .dataframe tbody tr th:only-of-type {\n",
       "        vertical-align: middle;\n",
       "    }\n",
       "\n",
       "    .dataframe tbody tr th {\n",
       "        vertical-align: top;\n",
       "    }\n",
       "\n",
       "    .dataframe thead th {\n",
       "        text-align: right;\n",
       "    }\n",
       "</style>\n",
       "<table border=\"1\" class=\"dataframe\">\n",
       "  <thead>\n",
       "    <tr style=\"text-align: right;\">\n",
       "      <th></th>\n",
       "      <th>review</th>\n",
       "      <th>sentiment</th>\n",
       "    </tr>\n",
       "  </thead>\n",
       "  <tbody>\n",
       "    <tr>\n",
       "      <th>0</th>\n",
       "      <td>teenager martha moxley maggie grace move high ...</td>\n",
       "      <td>1</td>\n",
       "    </tr>\n",
       "    <tr>\n",
       "      <th>1</th>\n",
       "      <td>ok really like kris kristofferson usual easy g...</td>\n",
       "      <td>0</td>\n",
       "    </tr>\n",
       "    <tr>\n",
       "      <th>2</th>\n",
       "      <td>spoiler read think watching movie although wou...</td>\n",
       "      <td>0</td>\n",
       "    </tr>\n",
       "    <tr>\n",
       "      <th>3</th>\n",
       "      <td>hi people seen wonderful movie im sure thet wo...</td>\n",
       "      <td>1</td>\n",
       "    </tr>\n",
       "    <tr>\n",
       "      <th>4</th>\n",
       "      <td>recently bought dvd forgetting much hated movi...</td>\n",
       "      <td>0</td>\n",
       "    </tr>\n",
       "    <tr>\n",
       "      <th>5</th>\n",
       "      <td>leave braik put good show finally zorak living...</td>\n",
       "      <td>1</td>\n",
       "    </tr>\n",
       "    <tr>\n",
       "      <th>6</th>\n",
       "      <td>nathan detroit frank sinatra manager new york ...</td>\n",
       "      <td>1</td>\n",
       "    </tr>\n",
       "    <tr>\n",
       "      <th>7</th>\n",
       "      <td>understand crash course right context must und...</td>\n",
       "      <td>1</td>\n",
       "    </tr>\n",
       "    <tr>\n",
       "      <th>8</th>\n",
       "      <td>impressed chavez stance globalisation sometime...</td>\n",
       "      <td>1</td>\n",
       "    </tr>\n",
       "    <tr>\n",
       "      <th>9</th>\n",
       "      <td>movie directed renny harlin finnish miracle st...</td>\n",
       "      <td>1</td>\n",
       "    </tr>\n",
       "  </tbody>\n",
       "</table>\n",
       "</div>"
      ],
      "text/plain": [
       "                                              review  sentiment\n",
       "0  teenager martha moxley maggie grace move high ...          1\n",
       "1  ok really like kris kristofferson usual easy g...          0\n",
       "2  spoiler read think watching movie although wou...          0\n",
       "3  hi people seen wonderful movie im sure thet wo...          1\n",
       "4  recently bought dvd forgetting much hated movi...          0\n",
       "5  leave braik put good show finally zorak living...          1\n",
       "6  nathan detroit frank sinatra manager new york ...          1\n",
       "7  understand crash course right context must und...          1\n",
       "8  impressed chavez stance globalisation sometime...          1\n",
       "9  movie directed renny harlin finnish miracle st...          1"
      ]
     },
     "execution_count": 2,
     "metadata": {},
     "output_type": "execute_result"
    }
   ],
   "source": [
    "#importing the training data\n",
    "data=pd.read_csv('./dataset/cleaned_data.csv')\n",
    "print(data.shape)\n",
    "data.head(10)"
   ]
  },
  {
   "cell_type": "code",
   "execution_count": 4,
   "metadata": {},
   "outputs": [],
   "source": [
    "X = data['review']\n",
    "y = data['sentiment']"
   ]
  },
  {
   "cell_type": "markdown",
   "metadata": {},
   "source": [
    "## Vectorizing data"
   ]
  },
  {
   "cell_type": "code",
   "execution_count": 21,
   "metadata": {},
   "outputs": [
    {
     "name": "stdout",
     "output_type": "stream",
     "text": [
      "Wall time: 1min 32s\n"
     ]
    }
   ],
   "source": [
    "%%time\n",
    "tfidf_vect = TfidfVectorizer(max_features=10000, ngram_range=(1,3)) #tfidfVectorizer\n",
    "X_tfidf = tfidf_vect.fit_transform(X).toarray()\n",
    "\n",
    "#count_vect = CountVectorizer() # CountVectorizer\n",
    "#Xtrain_count = count_vect.fit_transform(X)"
   ]
  },
  {
   "cell_type": "code",
   "execution_count": 22,
   "metadata": {},
   "outputs": [
    {
     "data": {
      "text/plain": [
       "((49582, 10000), (49582, 91832))"
      ]
     },
     "execution_count": 22,
     "metadata": {},
     "output_type": "execute_result"
    }
   ],
   "source": [
    "X_tfidf.shape"
   ]
  },
  {
   "cell_type": "markdown",
   "metadata": {},
   "source": [
    "## splitting into train and test"
   ]
  },
  {
   "cell_type": "code",
   "execution_count": 23,
   "metadata": {},
   "outputs": [
    {
     "name": "stdout",
     "output_type": "stream",
     "text": [
      "(39665, 10000) (39665,)\n",
      "(9917, 10000) (9917,)\n"
     ]
    }
   ],
   "source": [
    "X_train, X_test, y_train, y_test = train_test_split(X_tfidf, y, test_size=0.20, random_state=10)\n",
    "print(X_train.shape, y_train.shape)\n",
    "print(X_test.shape, y_test.shape)"
   ]
  },
  {
   "cell_type": "markdown",
   "metadata": {},
   "source": [
    "# Modeling"
   ]
  },
  {
   "cell_type": "markdown",
   "metadata": {},
   "source": [
    "## Logistic Regression"
   ]
  },
  {
   "cell_type": "code",
   "execution_count": 24,
   "metadata": {},
   "outputs": [
    {
     "name": "stdout",
     "output_type": "stream",
     "text": [
      "Logistic Regression Accuracy : 89.08%\n",
      "Logistic Regression RMSE : 0.1092064132298074\n",
      "Wall time: 20 s\n"
     ]
    },
    {
     "data": {
      "image/png": "[encoded data removed]",
      "text/plain": [
       "<Figure size 432x288 with 2 Axes>"
      ]
     },
     "metadata": {
      "needs_background": "light"
     },
     "output_type": "display_data"
    }
   ],
   "source": [
    "%%time\n",
    "lr = LogisticRegression()\n",
    "lr.fit(X_train,y_train)\n",
    "p1=lr.predict(X_test)\n",
    "s1=accuracy_score(y_test,p1)\n",
    "rmse1 = mean_squared_error(y_test,p1)\n",
    "print(\"Logistic Regression Accuracy :\", \"{:.2f}%\".format(100*s1))\n",
    "print(\"Logistic Regression RMSE :\", \"{}\".format(rmse1))\n",
    "plot_confusion_matrix(lr, X_test, y_test,cmap = 'Blues')\n",
    "plt.grid(False)"
   ]
  },
  {
   "cell_type": "markdown",
   "metadata": {},
   "source": [
    "## Multinomial Naive Bayes"
   ]
  },
  {
   "cell_type": "code",
   "execution_count": 25,
   "metadata": {},
   "outputs": [
    {
     "name": "stdout",
     "output_type": "stream",
     "text": [
      "Multinomial Naive Bayes Classifier Accuracy : 86.37%\n",
      "Multinomial Naive Bayes Classifier RMSE : 0.13633155188060905\n",
      "Wall time: 2.07 s\n"
     ]
    },
    {
     "data": {
      "image/png": "[encoded data removed]",
      "text/plain": [
       "<Figure size 432x288 with 2 Axes>"
      ]
     },
     "metadata": {
      "needs_background": "light"
     },
     "output_type": "display_data"
    }
   ],
   "source": [
    "%%time\n",
    "mnb= MultinomialNB()\n",
    "mnb.fit(X_train,y_train)\n",
    "p2=mnb.predict(X_test)\n",
    "s2=accuracy_score(y_test,p2)\n",
    "rmse2 = mean_squared_error(y_test,p2)\n",
    "print(\"Multinomial Naive Bayes Classifier Accuracy :\", \"{:.2f}%\".format(100*s2))\n",
    "print(\"Multinomial Naive Bayes Classifier RMSE :\", \"{}\".format(rmse2))\n",
    "plot_confusion_matrix(mnb, X_test, y_test,cmap = 'Blues')\n",
    "plt.grid(False)"
   ]
  },
  {
   "cell_type": "markdown",
   "metadata": {},
   "source": [
    "## Linear SVM"
   ]
  },
  {
   "cell_type": "code",
   "execution_count": 27,
   "metadata": {},
   "outputs": [
    {
     "name": "stdout",
     "output_type": "stream",
     "text": [
      "Linear Support Vector Classifier Accuracy : 88.97%\n",
      "Linear Support Vector Classifier RMSE : 0.11031561964303721\n",
      "Wall time: 5.97 s\n"
     ]
    },
    {
     "data": {
      "image/png": "[encoded data removed]",
      "text/plain": [
       "<Figure size 432x288 with 2 Axes>"
      ]
     },
     "metadata": {
      "needs_background": "light"
     },
     "output_type": "display_data"
    }
   ],
   "source": [
    "%%time\n",
    "linear_svc = LinearSVC(penalty='l2',loss = 'hinge')\n",
    "linear_svc.fit(X_train,y_train)\n",
    "p3=linear_svc.predict(X_test)\n",
    "s3=accuracy_score(y_test,p3)\n",
    "rmse3 = mean_squared_error(y_test,p3)\n",
    "print(\"Linear Support Vector Classifier Accuracy :\", \"{:.2f}%\".format(100*s3))\n",
    "print(\"Linear Support Vector Classifier RMSE :\", \"{}\".format(rmse3))\n",
    "plot_confusion_matrix(linear_svc, X_test, y_test,cmap = 'Blues')\n",
    "plt.grid(False)"
   ]
  },
  {
   "cell_type": "markdown",
   "metadata": {},
   "source": [
    "## XGboost Classifier"
   ]
  },
  {
   "cell_type": "code",
   "execution_count": null,
   "metadata": {},
   "outputs": [
    {
     "name": "stdout",
     "output_type": "stream",
     "text": [
      "[22:10:35] WARNING: C:/Users/Administrator/workspace/xgboost-win64_release_1.4.0/src/learner.cc:1095: Starting in XGBoost 1.3.0, the default evaluation metric used with the objective 'binary:logistic' was changed from 'error' to 'logloss'. Explicitly set eval_metric if you'd like to restore the old behavior.\n"
     ]
    }
   ],
   "source": [
    "%%time\n",
    "xgbo = XGBClassifier()\n",
    "xgbo.fit(X_train,y_train)\n",
    "p4=xgbo.predict(X_test)\n",
    "s4=accuracy_score(y_test,p4)\n",
    "rmse4 = mean_squared_error(y_test,p4)\n",
    "print(\"XGBoost Accuracy :\", \"{:.2f}%\".format(100*s4))\n",
    "print(\"XGBoost RMSE :\", \"{}\".format(rmse4))\n",
    "plot_confusion_matrix(xgbo, X_test, y_test, cmap = 'Blues')\n",
    "plt.grid(False)"
   ]
  },
  {
   "cell_type": "markdown",
   "metadata": {},
   "source": [
    "## Random Forest Classifier"
   ]
  },
  {
   "cell_type": "code",
   "execution_count": 13,
   "metadata": {},
   "outputs": [
    {
     "name": "stdout",
     "output_type": "stream",
     "text": [
      "Random Forest Classifier Accuracy : 84.57%\n",
      "Random Forest Classifier RMSE : 0.1542805283856005%\n",
      "Wall time: 8min\n"
     ]
    },
    {
     "data": {
      "image/png": "[encoded data removed]",
      "text/plain": [
       "<Figure size 432x288 with 2 Axes>"
      ]
     },
     "metadata": {
      "needs_background": "light"
     },
     "output_type": "display_data"
    }
   ],
   "source": [
    "%%time\n",
    "rfc = RandomForestClassifier()\n",
    "rfc.fit(X_train,y_train)\n",
    "p5=rfc.predict(X_test)\n",
    "s5=accuracy_score(y_test,p5)\n",
    "rmse5 = mean_squared_error(y_test,p5)\n",
    "print(\"Random Forest Classifier Accuracy :\", \"{:.2f}%\".format(100*s5))\n",
    "print(\"Random Forest Classifier RMSE :\", \"{}\".format(rmse5))\n",
    "plot_confusion_matrix(rfc, X_test, y_test, cmap = 'Blues')\n",
    "plt.grid(False)"
   ]
  },
  {
   "cell_type": "markdown",
   "metadata": {},
   "source": [
    "## Gradient Boosting Classifier"
   ]
  },
  {
   "cell_type": "code",
   "execution_count": 17,
   "metadata": {},
   "outputs": [
    {
     "name": "stdout",
     "output_type": "stream",
     "text": [
      "GradientBoostingClassifier Accuracy : 80.42%\n"
     ]
    },
    {
     "data": {
      "image/png": "[encoded data removed]",
      "text/plain": [
       "<Figure size 432x288 with 2 Axes>"
      ]
     },
     "metadata": {
      "needs_background": "light"
     },
     "output_type": "display_data"
    }
   ],
   "source": [
    "%%time\n",
    "gbc = GradientBoostingClassifier()\n",
    "gbc.fit(X_train,y_train)\n",
    "p6=gbc.predict(X_test)\n",
    "s6=accuracy_score(y_test,p6)\n",
    "rmse6 = mean_squared_error(y_test,p6)\n",
    "print(\"GradientBoostingClassifier Accuracy :\", \"{:.2f}%\".format(100*s6))\n",
    "print(\"Gradient Boosting Classifier RMSE :\", \"{}%\".format(rmse6))\n",
    "plot_confusion_matrix(gbc, X_test, y_test, cmap = 'Blues')\n",
    "plt.grid(False)"
   ]
  },
  {
   "cell_type": "markdown",
   "metadata": {},
   "source": [
    "## Decision Tree Classifier"
   ]
  },
  {
   "cell_type": "code",
   "execution_count": 20,
   "metadata": {},
   "outputs": [
    {
     "name": "stdout",
     "output_type": "stream",
     "text": [
      "DecisionTreeClassifier Accuracy : 71.28%\n"
     ]
    },
    {
     "data": {
      "image/png": "[encoded data removed]",
      "text/plain": [
       "<Figure size 432x288 with 2 Axes>"
      ]
     },
     "metadata": {
      "needs_background": "light"
     },
     "output_type": "display_data"
    }
   ],
   "source": [
    "%%time\n",
    "dtc = DecisionTreeClassifier()\n",
    "dtc.fit(X_train,y_train)\n",
    "p7=dtc.predict(X_test)\n",
    "s7=accuracy_score(y_test,p7)\n",
    "rmse7 = mean_squared_error(y_test,p7)\n",
    "print(\"Decision Tree Classifier Accuracy :\", \"{:.2f}%\".format(100*s7))\n",
    "print(\"Decision Tree Classifier RMSE :\", \"{}%\".format(rmse7))\n",
    "\n",
    "plot_confusion_matrix(dtc, X_test, y_test, cmap = 'Blues')\n",
    "plt.grid(False)"
   ]
  },
  {
   "cell_type": "code",
   "execution_count": null,
   "metadata": {},
   "outputs": [],
   "source": [
    "# Neural Network "
   ]
  },
  {
   "cell_type": "code",
   "execution_count": null,
   "metadata": {},
   "outputs": [],
   "source": [
    "# Creating Neural Network Model\n",
    "model = Sequential()\n",
    "\n",
    "model.add(Dense(16, activation='relu', input_shape=(5000,)))\n",
    "model.add(Dense(16, activation='relu'))\n",
    "model.add(Dropout(0.2))\n",
    "model.add(Dense(1, activation='sigmoid'))\n",
    "\n",
    "model.summary()"
   ]
  },
  {
   "cell_type": "code",
   "execution_count": null,
   "metadata": {},
   "outputs": [],
   "source": [
    "model.compile(optimizer='adam', loss='binary_crossentropy', metrics=['accuracy','mse'])\n"
   ]
  },
  {
   "cell_type": "code",
   "execution_count": null,
   "metadata": {},
   "outputs": [],
   "source": [
    "hist = model.fit(X_train, y_train, batch_size=256, validation_data=(X_test, y_test), epochs=5)"
   ]
  },
  {
   "cell_type": "code",
   "execution_count": null,
   "metadata": {},
   "outputs": [],
   "source": []
  },
  {
   "cell_type": "code",
   "execution_count": null,
   "metadata": {},
   "outputs": [],
   "source": []
  },
  {
   "cell_type": "code",
   "execution_count": 23,
   "metadata": {},
   "outputs": [],
   "source": [
    "models = ['Logistic Regression', 'Multinomial Naive Bayes', 'Linear SVM', 'XGBoost Classifier','Random Forest Classifier'\n",
    "         ,'Gradient Boosting Classifier','Decision Tree Classifier']\n",
    "accuracies = [s1,s2,s3,s4,s5,s6,s7]\n",
    "rmses = [rmse1, rmse2, rmse3, rmse4, rmse5, rmse6, rmse7 ]\n",
    "modeling_df = pd.DataFrame({'Models': models,\n",
    "                'Accuracy': accuracies,\n",
    "                'RMSE': rmses,\n",
    "            })"
   ]
  },
  {
   "cell_type": "code",
   "execution_count": 26,
   "metadata": {},
   "outputs": [
    {
     "data": {
      "text/html": [
       "<style  type=\"text/css\" >\n",
       "    #T_ebcdc602_5aa2_11ec_8390_0c8bfd751f74row0_col1 {\n",
       "            background-color:  yellow;\n",
       "        }</style><table id=\"T_ebcdc602_5aa2_11ec_8390_0c8bfd751f74\" ><thead>    <tr>        <th class=\"blank level0\" ></th>        <th class=\"col_heading level0 col0\" >Models</th>        <th class=\"col_heading level0 col1\" >Accuracy</th>    </tr></thead><tbody>\n",
       "                <tr>\n",
       "                        <th id=\"T_ebcdc602_5aa2_11ec_8390_0c8bfd751f74level0_row0\" class=\"row_heading level0 row0\" >2</th>\n",
       "                        <td id=\"T_ebcdc602_5aa2_11ec_8390_0c8bfd751f74row0_col0\" class=\"data row0 col0\" >Linear SVM</td>\n",
       "                        <td id=\"T_ebcdc602_5aa2_11ec_8390_0c8bfd751f74row0_col1\" class=\"data row0 col1\" >0.892306</td>\n",
       "            </tr>\n",
       "            <tr>\n",
       "                        <th id=\"T_ebcdc602_5aa2_11ec_8390_0c8bfd751f74level0_row1\" class=\"row_heading level0 row1\" >0</th>\n",
       "                        <td id=\"T_ebcdc602_5aa2_11ec_8390_0c8bfd751f74row1_col0\" class=\"data row1 col0\" >Logistic Regression</td>\n",
       "                        <td id=\"T_ebcdc602_5aa2_11ec_8390_0c8bfd751f74row1_col1\" class=\"data row1 col1\" >0.889584</td>\n",
       "            </tr>\n",
       "            <tr>\n",
       "                        <th id=\"T_ebcdc602_5aa2_11ec_8390_0c8bfd751f74level0_row2\" class=\"row_heading level0 row2\" >1</th>\n",
       "                        <td id=\"T_ebcdc602_5aa2_11ec_8390_0c8bfd751f74row2_col0\" class=\"data row2 col0\" >Multinomial Naive Bayes</td>\n",
       "                        <td id=\"T_ebcdc602_5aa2_11ec_8390_0c8bfd751f74row2_col1\" class=\"data row2 col1\" >0.860643</td>\n",
       "            </tr>\n",
       "            <tr>\n",
       "                        <th id=\"T_ebcdc602_5aa2_11ec_8390_0c8bfd751f74level0_row3\" class=\"row_heading level0 row3\" >4</th>\n",
       "                        <td id=\"T_ebcdc602_5aa2_11ec_8390_0c8bfd751f74row3_col0\" class=\"data row3 col0\" >Random Forest Classifier</td>\n",
       "                        <td id=\"T_ebcdc602_5aa2_11ec_8390_0c8bfd751f74row3_col1\" class=\"data row3 col1\" >0.847333</td>\n",
       "            </tr>\n",
       "            <tr>\n",
       "                        <th id=\"T_ebcdc602_5aa2_11ec_8390_0c8bfd751f74level0_row4\" class=\"row_heading level0 row4\" >3</th>\n",
       "                        <td id=\"T_ebcdc602_5aa2_11ec_8390_0c8bfd751f74row4_col0\" class=\"data row4 col0\" >XGBoost Classifier</td>\n",
       "                        <td id=\"T_ebcdc602_5aa2_11ec_8390_0c8bfd751f74row4_col1\" class=\"data row4 col1\" >0.846022</td>\n",
       "            </tr>\n",
       "            <tr>\n",
       "                        <th id=\"T_ebcdc602_5aa2_11ec_8390_0c8bfd751f74level0_row5\" class=\"row_heading level0 row5\" >5</th>\n",
       "                        <td id=\"T_ebcdc602_5aa2_11ec_8390_0c8bfd751f74row5_col0\" class=\"data row5 col0\" >Gradient Boosting Classifier</td>\n",
       "                        <td id=\"T_ebcdc602_5aa2_11ec_8390_0c8bfd751f74row5_col1\" class=\"data row5 col1\" >0.804175</td>\n",
       "            </tr>\n",
       "            <tr>\n",
       "                        <th id=\"T_ebcdc602_5aa2_11ec_8390_0c8bfd751f74level0_row6\" class=\"row_heading level0 row6\" >6</th>\n",
       "                        <td id=\"T_ebcdc602_5aa2_11ec_8390_0c8bfd751f74row6_col0\" class=\"data row6 col0\" >Decision Tree Classifier</td>\n",
       "                        <td id=\"T_ebcdc602_5aa2_11ec_8390_0c8bfd751f74row6_col1\" class=\"data row6 col1\" >0.712816</td>\n",
       "            </tr>\n",
       "    </tbody></table>"
      ],
      "text/plain": [
       "<pandas.io.formats.style.Styler at 0x1fe63137d48>"
      ]
     },
     "execution_count": 26,
     "metadata": {},
     "output_type": "execute_result"
    }
   ],
   "source": [
    "modeling_df.sort_values('Accuracy', axis=0, ascending=False,inplace=False, kind='quicksort', na_position='last').style.highlight_max(axis=0)"
   ]
  },
  {
   "cell_type": "markdown",
   "metadata": {},
   "source": [
    "References :\n",
    "\n",
    "* https://www.kaggle.com/derrelldsouza/imdb-sentiment-analysis-eda-ml-lstm-bert#4.-Predictive-Modelling-using-Machine-Learning\n",
    "* https://github.com/ReiCHU31/Sentiment-analysis-of-IMDb-movie-reviews/blob/master/Sentiment%20analysis%20of%20IMDb%20movie%20reviews.ipynb\n",
    "\n",
    "* Neural Net : https://www.kaggle.com/akashingoley/sentiment-analysis-with-acc-score-of-0-89#Creating-Different-Models\n",
    "* https://www.kaggle.com/manishthem/sentiment-analysis-imdb-50k-dataset-91-accuracy"
   ]
  },
  {
   "cell_type": "markdown",
   "metadata": {},
   "source": [
    "# TODO \n",
    "\n",
    "* Complete the analysis and do some hyper parameters tuning\n",
    "* "
   ]
  },
  {
   "cell_type": "code",
   "execution_count": 30,
   "metadata": {},
   "outputs": [],
   "source": [
    "from tensorflow.keras.models import Sequential\n",
    "from tensorflow.keras.layers import Dense\n",
    "from tensorflow.keras.layers import Dropout"
   ]
  },
  {
   "cell_type": "code",
   "execution_count": 35,
   "metadata": {},
   "outputs": [
    {
     "data": {
      "text/plain": [
       "(39665,)"
      ]
     },
     "execution_count": 35,
     "metadata": {},
     "output_type": "execute_result"
    }
   ],
   "source": [
    "X_train.shape"
   ]
  },
  {
   "cell_type": "code",
   "execution_count": 49,
   "metadata": {},
   "outputs": [],
   "source": [
    "x_train_arr = Xtrain_tfidf.toarray()\n",
    "x_test_arr = Xtest_tfidf.toarray()\n"
   ]
  },
  {
   "cell_type": "code",
   "execution_count": 50,
   "metadata": {},
   "outputs": [
    {
     "data": {
      "text/plain": [
       "(39665, 83484)"
      ]
     },
     "execution_count": 50,
     "metadata": {},
     "output_type": "execute_result"
    }
   ],
   "source": [
    "x_train_arr.shape"
   ]
  },
  {
   "cell_type": "code",
   "execution_count": 45,
   "metadata": {},
   "outputs": [
    {
     "name": "stdout",
     "output_type": "stream",
     "text": [
      "Model: \"sequential_3\"\n",
      "_________________________________________________________________\n",
      "Layer (type)                 Output Shape              Param #   \n",
      "=================================================================\n",
      "dense_9 (Dense)              (None, 16)                1335760   \n",
      "_________________________________________________________________\n",
      "dense_10 (Dense)             (None, 16)                272       \n",
      "_________________________________________________________________\n",
      "dropout_3 (Dropout)          (None, 16)                0         \n",
      "_________________________________________________________________\n",
      "dense_11 (Dense)             (None, 1)                 17        \n",
      "=================================================================\n",
      "Total params: 1,336,049\n",
      "Trainable params: 1,336,049\n",
      "Non-trainable params: 0\n",
      "_________________________________________________________________\n"
     ]
    }
   ],
   "source": [
    "# Creating Neural Network Model\n",
    "model = Sequential()\n",
    "\n",
    "model.add(Dense(16, activation='relu', input_shape=(83484,)))\n",
    "model.add(Dense(16, activation='relu'))\n",
    "model.add(Dropout(0.2))\n",
    "model.add(Dense(1, activation='sigmoid'))\n",
    "\n",
    "model.summary()"
   ]
  },
  {
   "cell_type": "code",
   "execution_count": 46,
   "metadata": {},
   "outputs": [],
   "source": [
    "model.compile(optimizer='adam', loss='binary_crossentropy', metrics=['accuracy','mean_squared_error'])"
   ]
  },
  {
   "cell_type": "code",
   "execution_count": null,
   "metadata": {},
   "outputs": [],
   "source": [
    "history = model.fit(x_train_arr, y_train, batch_size=256, validation_data=(x_test_arr, y_test), epochs=4)"
   ]
  },
  {
   "cell_type": "code",
   "execution_count": null,
   "metadata": {},
   "outputs": [],
   "source": []
  }
 ],
 "metadata": {
  "kernelspec": {
   "display_name": "Python 3",
   "language": "python",
   "name": "python3"
  },
  "language_info": {
   "codemirror_mode": {
    "name": "ipython",
    "version": 3
   },
   "file_extension": ".py",
   "mimetype": "text/x-python",
   "name": "python",
   "nbconvert_exporter": "python",
   "pygments_lexer": "ipython3",
   "version": "3.7.6"
  }
 },
 "nbformat": 4,
 "nbformat_minor": 4
}
